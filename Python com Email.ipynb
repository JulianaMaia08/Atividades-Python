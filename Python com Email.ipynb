{
 "cells": [
  {
   "cell_type": "markdown",
   "metadata": {
    "id": "LMJHAAAtNTn4"
   },
   "source": [
    "# Desafio Python e E-mail\n",
    "\n",
    "### Descrição\n",
    "\n",
    "Digamos que você trabalha em uma indústria e está responsável pela área de inteligência de negócio.\n",
    "\n",
    "Todo dia, você, a equipe ou até mesmo um programa, gera um report diferente para cada área da empresa:\n",
    "- Financeiro\n",
    "- Logística\n",
    "- Manutenção\n",
    "- Marketing\n",
    "- Operações\n",
    "- Produção\n",
    "- Vendas\n",
    "\n",
    "Cada um desses reports deve ser enviado por e-mail para o Gerente de cada Área.\n",
    "\n",
    "Crie um programa que faça isso automaticamente. A relação de Gerentes (com seus respectivos e-mails) e áreas está no arquivo 'Enviar E-mails.xlsx'.\n",
    "\n",
    "Dica: Use o pandas read_excel para ler o arquivo dos e-mails que isso vai facilitar."
   ]
  },
  {
   "cell_type": "code",
   "execution_count": 1,
   "metadata": {
    "id": "CerwjRtuNTn7",
    "scrolled": true
   },
   "outputs": [
    {
     "data": {
      "text/html": [
       "<div>\n",
       "<style scoped>\n",
       "    .dataframe tbody tr th:only-of-type {\n",
       "        vertical-align: middle;\n",
       "    }\n",
       "\n",
       "    .dataframe tbody tr th {\n",
       "        vertical-align: top;\n",
       "    }\n",
       "\n",
       "    .dataframe thead th {\n",
       "        text-align: right;\n",
       "    }\n",
       "</style>\n",
       "<table border=\"1\" class=\"dataframe\">\n",
       "  <thead>\n",
       "    <tr style=\"text-align: right;\">\n",
       "      <th></th>\n",
       "      <th>E-mail</th>\n",
       "      <th>Relatorios</th>\n",
       "      <th>Caminho</th>\n",
       "      <th>Mega</th>\n",
       "    </tr>\n",
       "  </thead>\n",
       "  <tbody>\n",
       "    <tr>\n",
       "      <th>0</th>\n",
       "      <td>juliana.maia@vivendadocamarao.com.br</td>\n",
       "      <td>Listagem de projeto x Classe Henrique 2</td>\n",
       "      <td>Listagem de projeto x Classe Henrique 2</td>\n",
       "      <td>Financeiro/Relatórios/Gerenciais/Mapa de proje...</td>\n",
       "    </tr>\n",
       "    <tr>\n",
       "      <th>1</th>\n",
       "      <td>juliana.maia@vivendadocamarao.com.br</td>\n",
       "      <td>Custo por item</td>\n",
       "      <td>Custo por item</td>\n",
       "      <td>Custo Padrão/Relatorios/Custo por item</td>\n",
       "    </tr>\n",
       "    <tr>\n",
       "      <th>2</th>\n",
       "      <td>juliana.maia@vivendadocamarao.com.br</td>\n",
       "      <td>Relatório de produtos emitidos NF-EXT - Sintét...</td>\n",
       "      <td>Relatório de produtos emitidos NF-EXT - Sintét...</td>\n",
       "      <td>Custo Padrão/Relatorios/Custo por item</td>\n",
       "    </tr>\n",
       "    <tr>\n",
       "      <th>3</th>\n",
       "      <td>juliana.maia@vivendadocamarao.com.br</td>\n",
       "      <td>Ficha de custo porção</td>\n",
       "      <td>Ficha de custo porção</td>\n",
       "      <td>Custo Padrão/Relatorios/Ficha de custo padrao</td>\n",
       "    </tr>\n",
       "  </tbody>\n",
       "</table>\n",
       "</div>"
      ],
      "text/plain": [
       "                                 E-mail  \\\n",
       "0  juliana.maia@vivendadocamarao.com.br   \n",
       "1  juliana.maia@vivendadocamarao.com.br   \n",
       "2  juliana.maia@vivendadocamarao.com.br   \n",
       "3  juliana.maia@vivendadocamarao.com.br   \n",
       "\n",
       "                                          Relatorios  \\\n",
       "0            Listagem de projeto x Classe Henrique 2   \n",
       "1                                     Custo por item   \n",
       "2  Relatório de produtos emitidos NF-EXT - Sintét...   \n",
       "3                              Ficha de custo porção   \n",
       "\n",
       "                                             Caminho  \\\n",
       "0            Listagem de projeto x Classe Henrique 2   \n",
       "1                                     Custo por item   \n",
       "2  Relatório de produtos emitidos NF-EXT - Sintét...   \n",
       "3                              Ficha de custo porção   \n",
       "\n",
       "                                                Mega  \n",
       "0  Financeiro/Relatórios/Gerenciais/Mapa de proje...  \n",
       "1             Custo Padrão/Relatorios/Custo por item  \n",
       "2             Custo Padrão/Relatorios/Custo por item  \n",
       "3      Custo Padrão/Relatorios/Ficha de custo padrao  "
      ]
     },
     "metadata": {},
     "output_type": "display_data"
    },
    {
     "ename": "AttributeError",
     "evalue": "CreateItem.HTML",
     "output_type": "error",
     "traceback": [
      "\u001b[1;31m---------------------------------------------------------------------------\u001b[0m",
      "\u001b[1;31mAttributeError\u001b[0m                            Traceback (most recent call last)",
      "Input \u001b[1;32mIn [1]\u001b[0m, in \u001b[0;36m<cell line: 7>\u001b[1;34m()\u001b[0m\n\u001b[0;32m     14\u001b[0m mail\u001b[38;5;241m.\u001b[39mTo \u001b[38;5;241m=\u001b[39m email\n\u001b[0;32m     15\u001b[0m mail\u001b[38;5;241m.\u001b[39mSubject \u001b[38;5;241m=\u001b[39m \u001b[38;5;124m'\u001b[39m\u001b[38;5;124mMigração ==> Financeiro\u001b[39m\u001b[38;5;124m'\u001b[39m\n\u001b[1;32m---> 16\u001b[0m \u001b[43mmail\u001b[49m\u001b[38;5;241;43m.\u001b[39;49m\u001b[43mHTML\u001b[49m\u001b[38;5;241m.\u001b[39mBody \u001b[38;5;241m=\u001b[39m \u001b[38;5;124mf\u001b[39m\u001b[38;5;124m'''\u001b[39m\n\u001b[0;32m     17\u001b[0m \u001b[38;5;124m<p>Bom dia,</p>\u001b[39m\n\u001b[0;32m     18\u001b[0m \u001b[38;5;124m<p>O relatório abaixo não está sendo executado, poderiam verificar?</p>\u001b[39m\n\u001b[0;32m     19\u001b[0m \u001b[38;5;124m\u001b[39m\n\u001b[0;32m     20\u001b[0m \u001b[38;5;124m<p>segue caminho e relatório:</p>\u001b[39m\n\u001b[0;32m     21\u001b[0m \u001b[38;5;124m\u001b[39m\u001b[38;5;132;01m{\u001b[39;00mrelat\u001b[38;5;132;01m}\u001b[39;00m\n\u001b[0;32m     22\u001b[0m \u001b[38;5;124m\u001b[39m\n\u001b[0;32m     23\u001b[0m \u001b[38;5;124m\u001b[39m\u001b[38;5;132;01m{\u001b[39;00mmega\u001b[38;5;132;01m}\u001b[39;00m\n\u001b[0;32m     24\u001b[0m \u001b[38;5;124m\u001b[39m\n\u001b[0;32m     25\u001b[0m \u001b[38;5;124m <p>Desde já agradeço;</p>\u001b[39m\n\u001b[0;32m     26\u001b[0m \u001b[38;5;124m\u001b[39m\n\u001b[0;32m     27\u001b[0m \u001b[38;5;124m\u001b[39m\u001b[38;5;124m'''\u001b[39m\n\u001b[0;32m     28\u001b[0m attachment  \u001b[38;5;241m=\u001b[39m \u001b[38;5;124mr\u001b[39m\u001b[38;5;124m'\u001b[39m\u001b[38;5;124mC:\u001b[39m\u001b[38;5;124m\\\u001b[39m\u001b[38;5;124mUsers\u001b[39m\u001b[38;5;124m\\\u001b[39m\u001b[38;5;124mjuliana.maia\u001b[39m\u001b[38;5;124m\\\u001b[39m\u001b[38;5;124mDesktop\u001b[39m\u001b[38;5;124m\\\u001b[39m\u001b[38;5;124mFINANCEIRO RELATORIOS\u001b[39m\u001b[38;5;124m\\\u001b[39m\u001b[38;5;132;01m{}\u001b[39;00m\u001b[38;5;124m.png\u001b[39m\u001b[38;5;124m'\u001b[39m\u001b[38;5;241m.\u001b[39mformat(caminho)\n\u001b[0;32m     29\u001b[0m mail\u001b[38;5;241m.\u001b[39mAttachments\u001b[38;5;241m.\u001b[39mAdd(attachment)\n",
      "File \u001b[1;32m~\\Anaconda3\\lib\\site-packages\\win32com\\client\\dynamic.py:639\u001b[0m, in \u001b[0;36mCDispatch.__getattr__\u001b[1;34m(self, attr)\u001b[0m\n\u001b[0;32m    636\u001b[0m     \u001b[38;5;28;01mreturn\u001b[39;00m \u001b[38;5;28mself\u001b[39m\u001b[38;5;241m.\u001b[39m_get_good_object_(ret)\n\u001b[0;32m    638\u001b[0m \u001b[38;5;66;03m# no where else to look.\u001b[39;00m\n\u001b[1;32m--> 639\u001b[0m \u001b[38;5;28;01mraise\u001b[39;00m \u001b[38;5;167;01mAttributeError\u001b[39;00m(\u001b[38;5;124m\"\u001b[39m\u001b[38;5;132;01m%s\u001b[39;00m\u001b[38;5;124m.\u001b[39m\u001b[38;5;132;01m%s\u001b[39;00m\u001b[38;5;124m\"\u001b[39m \u001b[38;5;241m%\u001b[39m (\u001b[38;5;28mself\u001b[39m\u001b[38;5;241m.\u001b[39m_username_, attr))\n",
      "\u001b[1;31mAttributeError\u001b[0m: CreateItem.HTML"
     ]
    }
   ],
   "source": [
    "import pandas as pd\n",
    "import win32com.client as win32\n",
    "outlook = win32.Dispatch('outlook.application')\n",
    "relatorio_df = pd.read_excel('Enviar E-mails(j).xlsx')\n",
    "display(relatorio_df)\n",
    "\n",
    "for i, email in enumerate(relatorio_df['E-mail']):\n",
    "    relat = relatorio_df.loc[i, 'Relatorios']\n",
    "    caminho = relatorio_df.loc[i, 'Caminho']\n",
    "    mega = relatorio_df.loc[i,'Mega']\n",
    "    \n",
    "    \n",
    "    mail = outlook.CreateItem(0)\n",
    "    mail.To = email\n",
    "    mail.Subject = 'Migração ==> Financeiro'\n",
    "    mail.HTML.Body = f'''\n",
    "    <p>Bom dia,</p>\n",
    "    <p>O relatório abaixo não está sendo executado, poderiam verificar?</p>\n",
    "    \n",
    "    <p>segue caminho e relatório:</p>\n",
    "    {relat}\n",
    "    \n",
    "    {mega}\n",
    "    \n",
    "     <p>Desde já agradeço;</p>\n",
    "    \n",
    "    '''\n",
    "    attachment  = r'C:\\Users\\juliana.maia\\Desktop\\FINANCEIRO RELATORIOS\\{}.png'.format(caminho)\n",
    "    mail.Attachments.Add(attachment)\n",
    "\n",
    "    mail.Send()"
   ]
  },
  {
   "cell_type": "code",
   "execution_count": null,
   "metadata": {},
   "outputs": [],
   "source": []
  }
 ],
 "metadata": {
  "colab": {
   "provenance": []
  },
  "kernelspec": {
   "display_name": "Python 3 (ipykernel)",
   "language": "python",
   "name": "python3"
  },
  "language_info": {
   "codemirror_mode": {
    "name": "ipython",
    "version": 3
   },
   "file_extension": ".py",
   "mimetype": "text/x-python",
   "name": "python",
   "nbconvert_exporter": "python",
   "pygments_lexer": "ipython3",
   "version": "3.9.12"
  }
 },
 "nbformat": 4,
 "nbformat_minor": 1
}
